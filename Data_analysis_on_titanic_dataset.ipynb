{
 "cells": [
  {
   "cell_type": "code",
   "execution_count": 9,
   "metadata": {},
   "outputs": [],
   "source": [
    "import pandas as pd\n",
    "import numpy as np\n",
    "import matplotlib.pyplot as plt\n",
    "from matplotlib import pyplot"
   ]
  },
  {
   "cell_type": "markdown",
   "metadata": {},
   "source": [
    "# Data Analyses on Titanic Dataset\n",
    "\n",
    "## Dataset Source and Description\n",
    "### Titanic dataset includes data about which passengers survived the Titanic shipwreck\n",
    "\n",
    "### Source: https://www.kaggle.com/datasets/brendan45774/test-file?resource=download"
   ]
  },
  {
   "cell_type": "markdown",
   "metadata": {},
   "source": [
    "## Data Analyses Goal\n",
    "### We'll analyse the dataset in order to be able to answer next questions:\n",
    "\n",
    "### Did the sex of the passengers affect the chances of surviving?\n",
    "\n",
    "### Did Age effect the chances of surviving?\n",
    "\n",
    "### Did the Port of Embarkation affect the chances of surviving?"
   ]
  },
  {
   "cell_type": "markdown",
   "metadata": {},
   "source": [
    "## Data Acquisition\n"
   ]
  },
  {
   "cell_type": "code",
   "execution_count": null,
   "metadata": {},
   "outputs": [],
   "source": []
  }
 ],
 "metadata": {
  "kernelspec": {
   "display_name": ".venv",
   "language": "python",
   "name": "python3"
  },
  "language_info": {
   "codemirror_mode": {
    "name": "ipython",
    "version": 3
   },
   "file_extension": ".py",
   "mimetype": "text/x-python",
   "name": "python",
   "nbconvert_exporter": "python",
   "pygments_lexer": "ipython3",
   "version": "3.12.2"
  }
 },
 "nbformat": 4,
 "nbformat_minor": 2
}
